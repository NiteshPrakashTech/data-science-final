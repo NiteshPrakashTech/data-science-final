{
 "cells": [
  {
   "cell_type": "markdown",
   "id": "465fac19-0da4-4afe-b21b-974093d084c2",
   "metadata": {},
   "source": [
    "# Tools for Data Science Final Project\n"
   ]
  },
  {
   "cell_type": "markdown",
   "id": "c0cd86c5-a635-4fef-aec5-a9d9b6a8246c",
   "metadata": {},
   "source": [
    "This notebook is created for the final project of the Tools for Data Science course. It includes examples of markdown and code cells.\n"
   ]
  },
  {
   "cell_type": "markdown",
   "id": "eb1e1ac8-95d5-4029-9809-bde66b3949bc",
   "metadata": {},
   "source": [
    "Below are some of the most commonly used programming languages in Data Science:\n",
    "\n",
    "1. Python  \n",
    "2. R  \n",
    "3. SQL  \n",
    "4. Java  \n",
    "5. Julia\n"
   ]
  },
  {
   "cell_type": "markdown",
   "id": "8ebf60fc-1119-4924-910c-8b8e09beeb35",
   "metadata": {},
   "source": [
    "Commonly used Data Science libraries:\n",
    "\n",
    "1. Pandas  \n",
    "2. NumPy  \n",
    "3. Matplotlib  \n",
    "4. Scikit-learn  \n",
    "5. TensorFlow\n"
   ]
  },
  {
   "cell_type": "markdown",
   "id": "e29c7521-2b16-459e-a4db-dec035ac8c2f",
   "metadata": {},
   "source": [
    "| Category           | Tool             |\n",
    "|--------------------|------------------|\n",
    "| Data Analysis      | Pandas           |\n",
    "| Machine Learning   | Scikit-learn     |\n",
    "| Deep Learning      | TensorFlow       |\n",
    "| Data Visualization | Matplotlib       |\n",
    "| Big Data           | Apache Spark     |\n"
   ]
  },
  {
   "cell_type": "markdown",
   "id": "7e8e852a-ee6d-41ad-8b66-6d34b9de9ebb",
   "metadata": {},
   "source": [
    "Below is an example of evaluating arithmetic expressions such as multiplication and addition.\n"
   ]
  },
  {
   "cell_type": "code",
   "execution_count": 1,
   "id": "e386c2f5-3cf1-472d-9757-0e7d729ba42d",
   "metadata": {},
   "outputs": [
    {
     "data": {
      "text/plain": [
       "23"
      ]
     },
     "execution_count": 1,
     "metadata": {},
     "output_type": "execute_result"
    }
   ],
   "source": [
    "# Multiply and add integers\n",
    "(5 * 4) + 3\n"
   ]
  },
  {
   "cell_type": "code",
   "execution_count": 2,
   "id": "b962b87e-3cbe-4c7a-bcbf-734a578fadd5",
   "metadata": {},
   "outputs": [
    {
     "data": {
      "text/plain": [
       "2.5"
      ]
     },
     "execution_count": 2,
     "metadata": {},
     "output_type": "execute_result"
    }
   ],
   "source": [
    "# Convert minutes to hours\n",
    "minutes = 150\n",
    "hours = minutes / 60\n",
    "hours\n"
   ]
  },
  {
   "cell_type": "markdown",
   "id": "0e727775-83d3-4994-a9ca-a44c7d10ec14",
   "metadata": {},
   "source": [
    "Objectives of this notebook:\n",
    "\n",
    "- Demonstrate markdown formatting  \n",
    "- Use code cells for basic Python operations  \n",
    "- List Data Science tools, languages, and libraries  \n",
    "- Practice sharing notebooks via GitHub  \n",
    "- Complete peer-reviewed final project\n"
   ]
  },
  {
   "cell_type": "markdown",
   "id": "48e335d3-8eb1-472c-93bc-613ffe856bba",
   "metadata": {},
   "source": [
    "**Author:** Nitesh Prakash\n"
   ]
  },
  {
   "cell_type": "code",
   "execution_count": null,
   "id": "7c068c4e-c6d8-4443-abf8-822c1f19cd9b",
   "metadata": {},
   "outputs": [],
   "source": []
  }
 ],
 "metadata": {
  "kernelspec": {
   "display_name": "Python 3 (ipykernel)",
   "language": "python",
   "name": "python3"
  },
  "language_info": {
   "codemirror_mode": {
    "name": "ipython",
    "version": 3
   },
   "file_extension": ".py",
   "mimetype": "text/x-python",
   "name": "python",
   "nbconvert_exporter": "python",
   "pygments_lexer": "ipython3",
   "version": "3.12.8"
  }
 },
 "nbformat": 4,
 "nbformat_minor": 5
}
