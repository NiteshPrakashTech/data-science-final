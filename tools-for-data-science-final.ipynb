{
 "cells": [
  {
   "cell_type": "markdown",
   "id": "d808c766-84cd-4b05-bdb1-22335c0b1f51",
   "metadata": {},
   "source": [
    "# Tools for Data Science Final Project"
   ]
  },
  {
   "cell_type": "markdown",
   "id": "30644ff4-ae9a-4586-893a-b5c269dfbc6e",
   "metadata": {},
   "source": [
    "## Introduction\n",
    "\n",
    "This notebook is part of the final assignment for the \"Tools for Data Science\" course.\n"
   ]
  },
  {
   "cell_type": "markdown",
   "id": "6c887353-2bfc-45c3-9f3f-2c186b8ab83a",
   "metadata": {},
   "source": [
    "## Data Science Languages\n",
    "\n",
    "Some commonly used programming languages for Data Science include:\n",
    "\n",
    "- Python\n",
    "- R\n",
    "- SQL\n",
    "- Julia\n",
    "- Scala\n"
   ]
  },
  {
   "cell_type": "markdown",
   "id": "3cd46297-93bd-4476-ba14-a5e7eabc283b",
   "metadata": {},
   "source": [
    "## Data Science Libraries\n",
    "\n",
    "Popular libraries used by Data Scientists include:\n",
    "\n",
    "- Pandas\n",
    "- NumPy\n",
    "- Scikit-learn\n",
    "- TensorFlow\n",
    "- Matplotlib\n"
   ]
  },
  {
   "cell_type": "markdown",
   "id": "d260cb5a-a21e-48e3-8006-1da44e352e40",
   "metadata": {},
   "source": [
    "## Data Science Tools\n",
    "\n",
    "| Tool           | Description                        |\n",
    "|----------------|------------------------------------|\n",
    "| JupyterLab     | IDE for writing code and markdown  |\n",
    "| RStudio        | IDE for R programming              |\n",
    "| Apache Spark   | Big data processing framework      |\n",
    "| Tableau        | Data visualization tool            |\n"
   ]
  },
  {
   "cell_type": "markdown",
   "id": "258d7076-aa53-4793-9f1a-506ed568b5a1",
   "metadata": {},
   "source": [
    "## Arithmetic Expressions in Python\n",
    "\n",
    "Below is an example of how to perform basic arithmetic operations such as multiplication and addition.\n"
   ]
  },
  {
   "cell_type": "code",
   "execution_count": 2,
   "id": "49aca2b3-1bf5-4845-9e3a-1d5a102f4d69",
   "metadata": {},
   "outputs": [
    {
     "data": {
      "text/plain": [
       "23"
      ]
     },
     "execution_count": 2,
     "metadata": {},
     "output_type": "execute_result"
    }
   ],
   "source": [
    "# Multiplying and Adding Two Numbers\n",
    "result = (5 * 4) + 3\n",
    "result\n"
   ]
  },
  {
   "cell_type": "code",
   "execution_count": 3,
   "id": "17e1e4db-dd30-4566-88d5-7eb20fa84891",
   "metadata": {},
   "outputs": [
    {
     "data": {
      "text/plain": [
       "3.3333333333333335"
      ]
     },
     "execution_count": 3,
     "metadata": {},
     "output_type": "execute_result"
    }
   ],
   "source": [
    "# Convert Minutes to Hours\n",
    "minutes = 200\n",
    "hours = minutes / 60\n",
    "hours\n"
   ]
  },
  {
   "cell_type": "markdown",
   "id": "b9a95094-c86c-416e-ba60-b86126f88659",
   "metadata": {},
   "source": [
    "## Objectives\n",
    "\n",
    "- Learn how to use markdown and code cells\n",
    "- Identify popular languages and libraries used in data science\n",
    "- Understand data science tools through examples\n",
    "- Perform basic arithmetic using Python\n",
    "- Share the notebook publicly using GitHub\n"
   ]
  },
  {
   "cell_type": "markdown",
   "id": "1fd5cd76-3ed2-4871-9455-b9ae7b2ee44d",
   "metadata": {},
   "source": [
    "**Author:** Nitesh Prakash\n"
   ]
  }
 ],
 "metadata": {
  "kernelspec": {
   "display_name": "Python 3 (ipykernel)",
   "language": "python",
   "name": "python3"
  },
  "language_info": {
   "codemirror_mode": {
    "name": "ipython",
    "version": 3
   },
   "file_extension": ".py",
   "mimetype": "text/x-python",
   "name": "python",
   "nbconvert_exporter": "python",
   "pygments_lexer": "ipython3",
   "version": "3.12.8"
  }
 },
 "nbformat": 4,
 "nbformat_minor": 5
}
